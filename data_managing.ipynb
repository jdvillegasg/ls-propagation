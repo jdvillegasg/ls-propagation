{
 "cells": [
  {
   "cell_type": "markdown",
   "metadata": {},
   "source": [
    "<h1 style=\"color:#fff;font-family:'system-ui'\">Set Spark environment variables </h1>"
   ]
  },
  {
   "cell_type": "code",
   "execution_count": null,
   "metadata": {},
   "outputs": [],
   "source": [
    "import os\n",
    "\n",
    "os.environ['JAVA_HOME'] = r\"C:\\Program Files\\Java\\jdk-21\"\n",
    "os.environ['SPARK_HOME'] = r\"C:\\Users\\julia\\Documents\\MyDownloadedApps\\Spark\"\n",
    "os.environ['PYSPARK_DRIVER_PYTHON'] = 'jupyter'\n",
    "os.environ['PYSPARK_DRIVER_PYTHON_OPTS'] = 'lab'\n",
    "os.environ['PYSPARK_PYTHON'] = 'python'"
   ]
  },
  {
   "cell_type": "markdown",
   "metadata": {},
   "source": [
    "<h1 style=\"color:#fff;font-family:'system-ui'\">Import Spark</h1>"
   ]
  },
  {
   "cell_type": "code",
   "execution_count": null,
   "metadata": {},
   "outputs": [],
   "source": [
    "from pyspark.sql import SparkSession"
   ]
  },
  {
   "cell_type": "markdown",
   "metadata": {},
   "source": [
    "<h1 style=\"color:#fff;font-family:'system-ui'\">Create Spark session</h1>"
   ]
  },
  {
   "cell_type": "code",
   "execution_count": null,
   "metadata": {},
   "outputs": [],
   "source": [
    "my_spark_sess = SparkSession.builder.appName(\"Introduction to Spark\").getOrCreate()"
   ]
  },
  {
   "cell_type": "markdown",
   "metadata": {},
   "source": [
    "<h1 style=\"color:#fff;font-family:'system-ui'\">Create Spark DataFrame</h1>"
   ]
  },
  {
   "cell_type": "code",
   "execution_count": null,
   "metadata": {},
   "outputs": [],
   "source": [
    "import numpy as np\n",
    "\n",
    "n_delays = 2044\n",
    "n_tsnaps = 6686\n",
    "\n",
    "data = np.random.rand(n_tsnaps, n_delays)\n",
    "df = my_spark_sess.createDataFrame(data)\n",
    "\n",
    "# Optiional showing \n",
    "# df.show()"
   ]
  },
  {
   "cell_type": "markdown",
   "metadata": {},
   "source": [
    "<h1 style=\"color:#fff;font-family:'system-ui'\">Read CSV file into a Spark DataFrame</h1>"
   ]
  },
  {
   "cell_type": "code",
   "execution_count": null,
   "metadata": {},
   "outputs": [],
   "source": [
    "CSV_FILE_PATH = \"D:\\Doctorado\\Matlab scripts\\VariablesToSave\\Measurement Campaigns\\Analysis measures\\IRFs\\IRF_MXW_2.csv\"\n",
    "\n",
    "df = my_spark_sess.read.csv(CSV_FILE_PATH)"
   ]
  },
  {
   "cell_type": "markdown",
   "metadata": {},
   "source": [
    "<h1 style=\"color:#fff;font-family:'system-ui'\">Create IRF tables in Database</h1>"
   ]
  },
  {
   "cell_type": "code",
   "execution_count": null,
   "metadata": {},
   "outputs": [],
   "source": [
    "from data_manage import DataAdmin\n",
    "\n",
    "csv_folder = r\"D:\\Doctorado\\Matlab scripts\\VariablesToSave\\Measurement Campaigns\\Analysis measures\\IRFs\"\n",
    "   \n",
    "DataManager = DataAdmin()    \n",
    "DataManager.insert_all_csv_to_tb(csv_folder)"
   ]
  },
  {
   "cell_type": "markdown",
   "metadata": {},
   "source": [
    "<h1 style=\"color:#fff;font-family:'system-ui'\">Query PDP from a Table</h1>"
   ]
  },
  {
   "cell_type": "code",
   "execution_count": 1,
   "metadata": {},
   "outputs": [
    {
     "name": "stdout",
     "output_type": "stream",
     "text": [
      "Elapsed time: 0.29309558868408203\n"
     ]
    }
   ],
   "source": [
    "from data_manage import DataAdmin\n",
    "import time\n",
    "\n",
    "DataManager = DataAdmin()\n",
    "\n",
    "start = time.time()\n",
    "pdp = DataManager.get_pdp('irf_mkt_1', 100)\n",
    "print(f\"Elapsed time: {time.time()-start}\")"
   ]
  },
  {
   "cell_type": "markdown",
   "metadata": {},
   "source": [
    "<h1 style=\"color:#fff;font-family:'system-ui'\">Query Rx Power from a Table</h1>"
   ]
  },
  {
   "cell_type": "code",
   "execution_count": 1,
   "metadata": {},
   "outputs": [
    {
     "name": "stdout",
     "output_type": "stream",
     "text": [
      "Elapsed time: 1.025017499923706\n"
     ]
    }
   ],
   "source": [
    "from data_manage import DataAdmin\n",
    "import time\n",
    "\n",
    "DataManager = DataAdmin()\n",
    "\n",
    "start = time.time()\n",
    "rx_pow = DataManager.get_rx_power('irf_mxw_2')\n",
    "print(f\"Elapsed time: {time.time()-start}\")"
   ]
  }
 ],
 "metadata": {
  "kernelspec": {
   "display_name": "electronics",
   "language": "python",
   "name": "python3"
  },
  "language_info": {
   "codemirror_mode": {
    "name": "ipython",
    "version": 3
   },
   "file_extension": ".py",
   "mimetype": "text/x-python",
   "name": "python",
   "nbconvert_exporter": "python",
   "pygments_lexer": "ipython3",
   "version": "3.11.5"
  }
 },
 "nbformat": 4,
 "nbformat_minor": 2
}
